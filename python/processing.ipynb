{
 "cells": [
  {
   "cell_type": "code",
   "execution_count": 64,
   "id": "4ad9a48b-c987-4226-94b4-bfa4c93c6aaa",
   "metadata": {},
   "outputs": [],
   "source": [
    "import numpy as np\n",
    "import pandas as ps\n",
    "import matplotlib.pyplot as plt"
   ]
  },
  {
   "cell_type": "code",
   "execution_count": 65,
   "id": "74a43b77-0559-4dcf-a20f-939f23a2b51f",
   "metadata": {},
   "outputs": [
    {
     "name": "stdout",
     "output_type": "stream",
     "text": [
      "Save fig 0\n",
      "Save fig 1\n",
      "Save fig 2\n",
      "Save fig 3\n",
      "Save fig 4\n",
      "Save fig 5\n",
      "Save fig 6\n",
      "Save fig 7\n",
      "Save fig 8\n",
      "Save fig 9\n",
      "Save fig 10\n"
     ]
    }
   ],
   "source": [
    "length = 0.01\n",
    "for step in range(0, 11):\n",
    "    data = np.loadtxt(f\"output/step{step}.csv\", delimiter=\" \")\n",
    "    \n",
    "    x = data[:,0]\n",
    "    y = data[:,1]\n",
    "    z = data[:,2]\n",
    "\n",
    "    fig = plt.figure(figsize=(12, 12))\n",
    "    ax = fig.add_subplot(projection='3d')\n",
    "    ax.axes.set_xlim3d(left=-length, right=length)\n",
    "    ax.axes.set_ylim3d(bottom=-length, top=length) \n",
    "    ax.axes.set_zlim3d(bottom=-length, top=length) \n",
    "    ax.scatter(x, y, z)\n",
    "\n",
    "    print(f\"Save fig {step}\")\n",
    "    fig.savefig(f\"figs/fig{step}.jpg\", format=\"jpg\")\n",
    "    plt.close(fig)"
   ]
  },
  {
   "cell_type": "code",
   "execution_count": null,
   "id": "89021c6c-7ad8-4451-ac04-8877567e0c9e",
   "metadata": {},
   "outputs": [],
   "source": []
  },
  {
   "cell_type": "code",
   "execution_count": 66,
   "id": "c5bd6e20-4836-48d3-ba83-27aeea89a3ca",
   "metadata": {},
   "outputs": [
    {
     "data": {
      "text/plain": [
       "array([306.34580683, 306.34580683, 306.34580683, 306.34580683,\n",
       "       306.34580683, 306.34580683, 306.34580683, 306.34580683,\n",
       "       306.34580683, 306.34580683, 306.34580683])"
      ]
     },
     "execution_count": 66,
     "metadata": {},
     "output_type": "execute_result"
    }
   ],
   "source": [
    "mass = 18 * 1.66 * 1.e-27;\n",
    "bozman = 1.38 * 1.e-23\n",
    "\n",
    "tempreture = []\n",
    "\n",
    "for step in range(0, 11):\n",
    "    data = np.loadtxt(f\"output/step{step}.csv\", delimiter=\" \")\n",
    "\n",
    "    vel_x = data[:,3]\n",
    "    vel_y = data[:,4]\n",
    "    vel_z = data[:,5]\n",
    "\n",
    "    energy = mass * (vel_x**2 + vel_y**2 + vel_z**2) / 2\n",
    "    mean_energy = np.mean(energy)\n",
    "    tempreture.append(mean_energy / bozman)\n",
    "\n",
    "tempreture = np.array(tempreture)\n",
    "\n",
    "tempreture\n",
    "\n",
    "    "
   ]
  },
  {
   "cell_type": "code",
   "execution_count": 69,
   "id": "aba50971-9cf3-4296-a054-9c07e680a152",
   "metadata": {},
   "outputs": [
    {
     "name": "stdout",
     "output_type": "stream",
     "text": [
      "-201.152\n",
      "-201.152\n",
      "-201.152\n",
      "-201.152\n",
      "-201.152\n",
      "-201.152\n",
      "-201.152\n",
      "-201.152\n",
      "-201.152\n",
      "-201.152\n",
      "-201.152\n"
     ]
    }
   ],
   "source": [
    "for step in range(0, 11):\n",
    "    data = np.loadtxt(f\"output/step{step}.csv\")\n",
    "    vel_x = data[0, 3]\n",
    "    print(vel_x)"
   ]
  },
  {
   "cell_type": "code",
   "execution_count": null,
   "id": "9944046a-8e2c-4468-be05-3f19d9e403ad",
   "metadata": {},
   "outputs": [],
   "source": []
  },
  {
   "cell_type": "code",
   "execution_count": null,
   "id": "c30ae772-d090-4bae-82a4-c1ed266d2fbc",
   "metadata": {},
   "outputs": [],
   "source": []
  }
 ],
 "metadata": {
  "kernelspec": {
   "display_name": "Python 3 (ipykernel)",
   "language": "python",
   "name": "python3"
  },
  "language_info": {
   "codemirror_mode": {
    "name": "ipython",
    "version": 3
   },
   "file_extension": ".py",
   "mimetype": "text/x-python",
   "name": "python",
   "nbconvert_exporter": "python",
   "pygments_lexer": "ipython3",
   "version": "3.12.7"
  }
 },
 "nbformat": 4,
 "nbformat_minor": 5
}
